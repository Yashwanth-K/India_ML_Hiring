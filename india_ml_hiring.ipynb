{
 "cells": [
  {
   "cell_type": "markdown",
   "metadata": {},
   "source": [
    "#### Import libraries"
   ]
  },
  {
   "cell_type": "code",
   "execution_count": 1,
   "metadata": {
    "_cell_guid": "b1076dfc-b9ad-4769-8c92-a6c4dae69d19",
    "_uuid": "8f2839f25d086af736a60e9eeb907d3b93b6e0e5"
   },
   "outputs": [],
   "source": [
    "import numpy as np \n",
    "import pandas as pd\n",
    "# import plotly.graph_objects as go\n",
    "# import plotly.express as px\n",
    "import numpy as np\n",
    "import sklearn\n",
    "from sklearn.preprocessing import StandardScaler\n",
    "import matplotlib.pyplot as plt\n",
    "import re\n",
    "from xgboost import XGBClassifier,plot_importance\n",
    "from sklearn.model_selection import cross_val_score,cross_val_predict,train_test_split\n",
    "from sklearn.metrics import accuracy_score,precision_score,recall_score,f1_score\n",
    "import imblearn\n",
    "from imblearn.over_sampling import SMOTE\n",
    "#Train \n",
    "\n",
    "import time\n",
    "\n",
    "import warnings\n",
    "warnings.filterwarnings('ignore',category=DeprecationWarning)\n",
    "pd.set_option(\"display.max_columns\",None)"
   ]
  },
  {
   "cell_type": "code",
   "execution_count": 4,
   "metadata": {},
   "outputs": [],
   "source": [
    "# file=\"../input\"\n",
    "file=\"files\""
   ]
  },
  {
   "cell_type": "markdown",
   "metadata": {},
   "source": [
    "#### Read csv files to dataframe"
   ]
  },
  {
   "cell_type": "code",
   "execution_count": 5,
   "metadata": {
    "_cell_guid": "b1076dfc-b9ad-4769-8c92-a6c4dae69d19",
    "_uuid": "8f2839f25d086af736a60e9eeb907d3b93b6e0e5"
   },
   "outputs": [],
   "source": [
    "df = pd.read_csv(file+\"/train.csv\")"
   ]
  },
  {
   "cell_type": "code",
   "execution_count": 6,
   "metadata": {},
   "outputs": [
    {
     "data": {
      "text/plain": [
       "Index(['loan_id', 'source', 'financial_institution', 'interest_rate',\n",
       "       'unpaid_principal_bal', 'loan_term', 'origination_date',\n",
       "       'first_payment_date', 'loan_to_value', 'number_of_borrowers',\n",
       "       'debt_to_income_ratio', 'borrower_credit_score', 'loan_purpose',\n",
       "       'insurance_percent', 'co-borrower_credit_score', 'insurance_type', 'm1',\n",
       "       'm2', 'm3', 'm4', 'm5', 'm6', 'm7', 'm8', 'm9', 'm10', 'm11', 'm12'],\n",
       "      dtype='object')"
      ]
     },
     "execution_count": 6,
     "metadata": {},
     "output_type": "execute_result"
    }
   ],
   "source": [
    "train_y = df['m13']\n",
    "df.drop(columns = 'm13',inplace = True)\n",
    "df.columns"
   ]
  },
  {
   "cell_type": "code",
   "execution_count": 36,
   "metadata": {},
   "outputs": [
    {
     "data": {
      "text/html": [
       "<div>\n",
       "<style scoped>\n",
       "    .dataframe tbody tr th:only-of-type {\n",
       "        vertical-align: middle;\n",
       "    }\n",
       "\n",
       "    .dataframe tbody tr th {\n",
       "        vertical-align: top;\n",
       "    }\n",
       "\n",
       "    .dataframe thead th {\n",
       "        text-align: right;\n",
       "    }\n",
       "</style>\n",
       "<table border=\"1\" class=\"dataframe\">\n",
       "  <thead>\n",
       "    <tr style=\"text-align: right;\">\n",
       "      <th></th>\n",
       "      <th>loan_id</th>\n",
       "      <th>source</th>\n",
       "      <th>financial_institution</th>\n",
       "      <th>interest_rate</th>\n",
       "      <th>unpaid_principal_bal</th>\n",
       "      <th>loan_term</th>\n",
       "      <th>loan_to_value</th>\n",
       "      <th>number_of_borrowers</th>\n",
       "      <th>debt_to_income_ratio</th>\n",
       "      <th>borrower_credit_score</th>\n",
       "      <th>loan_purpose</th>\n",
       "      <th>insurance_percent</th>\n",
       "      <th>co-borrower_credit_score</th>\n",
       "      <th>insurance_type</th>\n",
       "      <th>m1</th>\n",
       "      <th>m2</th>\n",
       "      <th>m3</th>\n",
       "      <th>m4</th>\n",
       "      <th>m5</th>\n",
       "      <th>m6</th>\n",
       "      <th>m7</th>\n",
       "      <th>m8</th>\n",
       "      <th>m9</th>\n",
       "      <th>m10</th>\n",
       "      <th>m11</th>\n",
       "      <th>m12</th>\n",
       "      <th>response_time</th>\n",
       "    </tr>\n",
       "  </thead>\n",
       "  <tbody>\n",
       "    <tr>\n",
       "      <th>0</th>\n",
       "      <td>268055008619</td>\n",
       "      <td>Z</td>\n",
       "      <td>Turner, Baldwin and Rhodes</td>\n",
       "      <td>4.250</td>\n",
       "      <td>214000</td>\n",
       "      <td>360</td>\n",
       "      <td>95</td>\n",
       "      <td>1.0</td>\n",
       "      <td>22.0</td>\n",
       "      <td>694.0</td>\n",
       "      <td>C86</td>\n",
       "      <td>30.0</td>\n",
       "      <td>0.0</td>\n",
       "      <td>0.0</td>\n",
       "      <td>0</td>\n",
       "      <td>0</td>\n",
       "      <td>0</td>\n",
       "      <td>0</td>\n",
       "      <td>0</td>\n",
       "      <td>0</td>\n",
       "      <td>1</td>\n",
       "      <td>0</td>\n",
       "      <td>0</td>\n",
       "      <td>0</td>\n",
       "      <td>0</td>\n",
       "      <td>0</td>\n",
       "      <td>2</td>\n",
       "    </tr>\n",
       "    <tr>\n",
       "      <th>1</th>\n",
       "      <td>672831657627</td>\n",
       "      <td>Y</td>\n",
       "      <td>Swanson, Newton and Miller</td>\n",
       "      <td>4.875</td>\n",
       "      <td>144000</td>\n",
       "      <td>360</td>\n",
       "      <td>72</td>\n",
       "      <td>1.0</td>\n",
       "      <td>44.0</td>\n",
       "      <td>697.0</td>\n",
       "      <td>B12</td>\n",
       "      <td>0.0</td>\n",
       "      <td>0.0</td>\n",
       "      <td>0.0</td>\n",
       "      <td>0</td>\n",
       "      <td>0</td>\n",
       "      <td>0</td>\n",
       "      <td>0</td>\n",
       "      <td>0</td>\n",
       "      <td>0</td>\n",
       "      <td>0</td>\n",
       "      <td>0</td>\n",
       "      <td>0</td>\n",
       "      <td>0</td>\n",
       "      <td>1</td>\n",
       "      <td>0</td>\n",
       "      <td>2</td>\n",
       "    </tr>\n",
       "    <tr>\n",
       "      <th>2</th>\n",
       "      <td>742515242108</td>\n",
       "      <td>Z</td>\n",
       "      <td>Thornton-Davis</td>\n",
       "      <td>3.250</td>\n",
       "      <td>366000</td>\n",
       "      <td>180</td>\n",
       "      <td>49</td>\n",
       "      <td>1.0</td>\n",
       "      <td>33.0</td>\n",
       "      <td>780.0</td>\n",
       "      <td>B12</td>\n",
       "      <td>0.0</td>\n",
       "      <td>0.0</td>\n",
       "      <td>0.0</td>\n",
       "      <td>0</td>\n",
       "      <td>0</td>\n",
       "      <td>0</td>\n",
       "      <td>0</td>\n",
       "      <td>0</td>\n",
       "      <td>0</td>\n",
       "      <td>0</td>\n",
       "      <td>0</td>\n",
       "      <td>0</td>\n",
       "      <td>0</td>\n",
       "      <td>0</td>\n",
       "      <td>0</td>\n",
       "      <td>2</td>\n",
       "    </tr>\n",
       "    <tr>\n",
       "      <th>3</th>\n",
       "      <td>601385667462</td>\n",
       "      <td>X</td>\n",
       "      <td>OTHER</td>\n",
       "      <td>4.750</td>\n",
       "      <td>135000</td>\n",
       "      <td>360</td>\n",
       "      <td>46</td>\n",
       "      <td>2.0</td>\n",
       "      <td>44.0</td>\n",
       "      <td>633.0</td>\n",
       "      <td>B12</td>\n",
       "      <td>0.0</td>\n",
       "      <td>638.0</td>\n",
       "      <td>0.0</td>\n",
       "      <td>0</td>\n",
       "      <td>0</td>\n",
       "      <td>0</td>\n",
       "      <td>0</td>\n",
       "      <td>0</td>\n",
       "      <td>0</td>\n",
       "      <td>0</td>\n",
       "      <td>0</td>\n",
       "      <td>1</td>\n",
       "      <td>1</td>\n",
       "      <td>1</td>\n",
       "      <td>1</td>\n",
       "      <td>2</td>\n",
       "    </tr>\n",
       "    <tr>\n",
       "      <th>4</th>\n",
       "      <td>273870029961</td>\n",
       "      <td>X</td>\n",
       "      <td>OTHER</td>\n",
       "      <td>4.750</td>\n",
       "      <td>124000</td>\n",
       "      <td>360</td>\n",
       "      <td>80</td>\n",
       "      <td>1.0</td>\n",
       "      <td>43.0</td>\n",
       "      <td>681.0</td>\n",
       "      <td>C86</td>\n",
       "      <td>0.0</td>\n",
       "      <td>0.0</td>\n",
       "      <td>0.0</td>\n",
       "      <td>0</td>\n",
       "      <td>1</td>\n",
       "      <td>2</td>\n",
       "      <td>3</td>\n",
       "      <td>4</td>\n",
       "      <td>5</td>\n",
       "      <td>6</td>\n",
       "      <td>7</td>\n",
       "      <td>8</td>\n",
       "      <td>9</td>\n",
       "      <td>10</td>\n",
       "      <td>11</td>\n",
       "      <td>2</td>\n",
       "    </tr>\n",
       "  </tbody>\n",
       "</table>\n",
       "</div>"
      ],
      "text/plain": [
       "        loan_id source       financial_institution  interest_rate  \\\n",
       "0  268055008619      Z  Turner, Baldwin and Rhodes          4.250   \n",
       "1  672831657627      Y  Swanson, Newton and Miller          4.875   \n",
       "2  742515242108      Z              Thornton-Davis          3.250   \n",
       "3  601385667462      X                       OTHER          4.750   \n",
       "4  273870029961      X                       OTHER          4.750   \n",
       "\n",
       "   unpaid_principal_bal  loan_term  loan_to_value  number_of_borrowers  \\\n",
       "0                214000        360             95                  1.0   \n",
       "1                144000        360             72                  1.0   \n",
       "2                366000        180             49                  1.0   \n",
       "3                135000        360             46                  2.0   \n",
       "4                124000        360             80                  1.0   \n",
       "\n",
       "   debt_to_income_ratio  borrower_credit_score loan_purpose  \\\n",
       "0                  22.0                  694.0          C86   \n",
       "1                  44.0                  697.0          B12   \n",
       "2                  33.0                  780.0          B12   \n",
       "3                  44.0                  633.0          B12   \n",
       "4                  43.0                  681.0          C86   \n",
       "\n",
       "   insurance_percent  co-borrower_credit_score  insurance_type  m1  m2  m3  \\\n",
       "0               30.0                       0.0             0.0   0   0   0   \n",
       "1                0.0                       0.0             0.0   0   0   0   \n",
       "2                0.0                       0.0             0.0   0   0   0   \n",
       "3                0.0                     638.0             0.0   0   0   0   \n",
       "4                0.0                       0.0             0.0   0   1   2   \n",
       "\n",
       "   m4  m5  m6  m7  m8  m9  m10  m11  m12  response_time  \n",
       "0   0   0   0   1   0   0    0    0    0              2  \n",
       "1   0   0   0   0   0   0    0    1    0              2  \n",
       "2   0   0   0   0   0   0    0    0    0              2  \n",
       "3   0   0   0   0   0   1    1    1    1              2  \n",
       "4   3   4   5   6   7   8    9   10   11              2  "
      ]
     },
     "execution_count": 36,
     "metadata": {},
     "output_type": "execute_result"
    }
   ],
   "source": [
    "df.head()"
   ]
  },
  {
   "cell_type": "code",
   "execution_count": 8,
   "metadata": {},
   "outputs": [
    {
     "name": "stdout",
     "output_type": "stream",
     "text": [
      "<class 'pandas.core.frame.DataFrame'>\n",
      "RangeIndex: 116058 entries, 0 to 116057\n",
      "Data columns (total 28 columns):\n",
      "loan_id                     116058 non-null int64\n",
      "source                      116058 non-null object\n",
      "financial_institution       116058 non-null object\n",
      "interest_rate               116058 non-null float64\n",
      "unpaid_principal_bal        116058 non-null int64\n",
      "loan_term                   116058 non-null int64\n",
      "origination_date            116058 non-null object\n",
      "first_payment_date          116058 non-null object\n",
      "loan_to_value               116058 non-null int64\n",
      "number_of_borrowers         116058 non-null float64\n",
      "debt_to_income_ratio        116058 non-null float64\n",
      "borrower_credit_score       116058 non-null float64\n",
      "loan_purpose                116058 non-null object\n",
      "insurance_percent           116058 non-null float64\n",
      "co-borrower_credit_score    116058 non-null float64\n",
      "insurance_type              116058 non-null float64\n",
      "m1                          116058 non-null int64\n",
      "m2                          116058 non-null int64\n",
      "m3                          116058 non-null int64\n",
      "m4                          116058 non-null int64\n",
      "m5                          116058 non-null int64\n",
      "m6                          116058 non-null int64\n",
      "m7                          116058 non-null int64\n",
      "m8                          116058 non-null int64\n",
      "m9                          116058 non-null int64\n",
      "m10                         116058 non-null int64\n",
      "m11                         116058 non-null int64\n",
      "m12                         116058 non-null int64\n",
      "dtypes: float64(7), int64(16), object(5)\n",
      "memory usage: 24.8+ MB\n"
     ]
    }
   ],
   "source": [
    "df.info()"
   ]
  },
  {
   "cell_type": "markdown",
   "metadata": {},
   "source": [
    "#### Finding Response time from the date of loan to first payment"
   ]
  },
  {
   "cell_type": "code",
   "execution_count": 9,
   "metadata": {},
   "outputs": [],
   "source": [
    "def response_time(df):\n",
    "    diff = []\n",
    "    for i in range(len(df['origination_date'])):\n",
    "        temp = int(df['first_payment_date'][i].split('/')[0]) - int(df['origination_date'][i].split('-')[1])\n",
    "        diff.append(temp)\n",
    "    df.drop(columns = ['origination_date','first_payment_date'],inplace = True)\n",
    "    df['response_time'] = diff\n",
    "    return df"
   ]
  },
  {
   "cell_type": "markdown",
   "metadata": {},
   "source": [
    "### Encoding using one hot encoding"
   ]
  },
  {
   "cell_type": "code",
   "execution_count": 10,
   "metadata": {},
   "outputs": [],
   "source": [
    "def one_hot(df,columns,prefix):\n",
    "#     columns_encoding = ['source','financial_institution','loan_purpose']\n",
    "    columns_encoding = columns\n",
    "    df2 = pd.get_dummies(df,columns = columns_encoding, prefix = ['source','fi','lp'])\n",
    "    return df2"
   ]
  },
  {
   "cell_type": "code",
   "execution_count": 11,
   "metadata": {},
   "outputs": [
    {
     "data": {
      "text/plain": [
       "Index(['loan_id', 'interest_rate', 'unpaid_principal_bal', 'loan_term',\n",
       "       'loan_to_value', 'number_of_borrowers', 'debt_to_income_ratio',\n",
       "       'borrower_credit_score', 'insurance_percent',\n",
       "       'co-borrower_credit_score', 'insurance_type', 'm1', 'm2', 'm3', 'm4',\n",
       "       'm5', 'm6', 'm7', 'm8', 'm9', 'm10', 'm11', 'm12', 'response_time',\n",
       "       'source_X', 'source_Y', 'source_Z', 'fi_Anderson-Taylor',\n",
       "       'fi_Browning-Hart', 'fi_Chapman-Mcmahon', 'fi_Cole, Brooks and Vincent',\n",
       "       'fi_Edwards-Hoffman', 'fi_Martinez, Duffy and Bird',\n",
       "       'fi_Miller, Mcclure and Allen', 'fi_Nicholson Group', 'fi_OTHER',\n",
       "       'fi_Richards-Walters', 'fi_Richardson Ltd',\n",
       "       'fi_Romero, Woods and Johnson', 'fi_Sanchez, Hays and Wilkerson',\n",
       "       'fi_Sanchez-Robinson', 'fi_Suarez Inc', 'fi_Swanson, Newton and Miller',\n",
       "       'fi_Taylor, Hunt and Rodriguez', 'fi_Thornton-Davis',\n",
       "       'fi_Turner, Baldwin and Rhodes', 'lp_A23', 'lp_B12', 'lp_C86'],\n",
       "      dtype='object')"
      ]
     },
     "execution_count": 11,
     "metadata": {},
     "output_type": "execute_result"
    }
   ],
   "source": [
    "df2 = response_time(df)\n",
    "df2 = one_hot(df,['source','financial_institution','loan_purpose'],['source','fi','lp'])\n",
    "df2.columns"
   ]
  },
  {
   "cell_type": "code",
   "execution_count": 13,
   "metadata": {},
   "outputs": [
    {
     "data": {
      "text/plain": [
       "0    115422\n",
       "1       636\n",
       "Name: m13, dtype: int64"
      ]
     },
     "execution_count": 13,
     "metadata": {},
     "output_type": "execute_result"
    }
   ],
   "source": [
    "train_y.value_counts()"
   ]
  },
  {
   "cell_type": "markdown",
   "metadata": {},
   "source": [
    "#### What we see is an imbalanced data. What we could try here is using SMOTE."
   ]
  },
  {
   "cell_type": "code",
   "execution_count": 14,
   "metadata": {},
   "outputs": [],
   "source": [
    "unique_ids = df2['loan_id']\n",
    "df2.drop(columns = \"loan_id\",inplace = True)"
   ]
  },
  {
   "cell_type": "code",
   "execution_count": 15,
   "metadata": {},
   "outputs": [
    {
     "data": {
      "text/plain": [
       "Index(['interest_rate', 'unpaid_principal_bal', 'loan_term', 'loan_to_value',\n",
       "       'number_of_borrowers', 'debt_to_income_ratio', 'borrower_credit_score',\n",
       "       'insurance_percent', 'co-borrower_credit_score', 'insurance_type', 'm1',\n",
       "       'm2', 'm3', 'm4', 'm5', 'm6', 'm7', 'm8', 'm9', 'm10', 'm11', 'm12',\n",
       "       'response_time', 'source_X', 'source_Y', 'source_Z',\n",
       "       'fi_Anderson-Taylor', 'fi_Browning-Hart', 'fi_Chapman-Mcmahon',\n",
       "       'fi_Cole, Brooks and Vincent', 'fi_Edwards-Hoffman',\n",
       "       'fi_Martinez, Duffy and Bird', 'fi_Miller, Mcclure and Allen',\n",
       "       'fi_Nicholson Group', 'fi_OTHER', 'fi_Richards-Walters',\n",
       "       'fi_Richardson Ltd', 'fi_Romero, Woods and Johnson',\n",
       "       'fi_Sanchez, Hays and Wilkerson', 'fi_Sanchez-Robinson',\n",
       "       'fi_Suarez Inc', 'fi_Swanson, Newton and Miller',\n",
       "       'fi_Taylor, Hunt and Rodriguez', 'fi_Thornton-Davis',\n",
       "       'fi_Turner, Baldwin and Rhodes', 'lp_A23', 'lp_B12', 'lp_C86'],\n",
       "      dtype='object')"
      ]
     },
     "execution_count": 15,
     "metadata": {},
     "output_type": "execute_result"
    }
   ],
   "source": [
    "df2.columns"
   ]
  },
  {
   "cell_type": "code",
   "execution_count": 16,
   "metadata": {},
   "outputs": [
    {
     "name": "stdout",
     "output_type": "stream",
     "text": [
      "interest_rate\t\t\t\t 0.054297748337329886\n",
      "unpaid_principal_bal\t\t\t\t -0.017119713693303878\n",
      "loan_term\t\t\t\t 0.02350150259625623\n",
      "loan_to_value\t\t\t\t 0.016356698057617143\n",
      "number_of_borrowers\t\t\t\t -0.03997893193327681\n",
      "debt_to_income_ratio\t\t\t\t 0.0380332430271289\n",
      "borrower_credit_score\t\t\t\t -0.09421547991626723\n",
      "co-borrower_credit_score\t\t\t\t -0.04265141994916702\n",
      "m1\t\t\t\t 0.0920536306133328\n",
      "m2\t\t\t\t 0.14692067142997856\n",
      "m3\t\t\t\t 0.15739400237425377\n",
      "m4\t\t\t\t 0.21895630047719536\n",
      "m5\t\t\t\t 0.2595289494162428\n",
      "m6\t\t\t\t 0.28771179017698006\n",
      "m7\t\t\t\t 0.3090718669636777\n",
      "m8\t\t\t\t 0.33936180205435057\n",
      "m9\t\t\t\t 0.3691377263202238\n",
      "m10\t\t\t\t 0.3678395993744353\n",
      "m11\t\t\t\t 0.4102133930470283\n",
      "m12\t\t\t\t 0.4664416294225055\n",
      "source_X\t\t\t\t -0.010544394670021748\n",
      "source_Y\t\t\t\t 0.010279241930136466\n",
      "lp_A23\t\t\t\t -0.02553164234786174\n",
      "lp_B12\t\t\t\t 0.015562882468223672\n",
      "lp_C86\t\t\t\t 0.01398352210011473\n"
     ]
    }
   ],
   "source": [
    "retained = []\n",
    "from scipy.stats import pearsonr\n",
    "for i in df2.columns:\n",
    "    corr, _ = pearsonr(df2[i],train_y)\n",
    "    if abs(corr)>0.01:\n",
    "        retained.append(i)\n",
    "        print(i+'\\t\\t\\t\\t '+str(corr))"
   ]
  },
  {
   "cell_type": "code",
   "execution_count": 17,
   "metadata": {},
   "outputs": [
    {
     "data": {
      "text/plain": [
       "['interest_rate',\n",
       " 'unpaid_principal_bal',\n",
       " 'loan_term',\n",
       " 'loan_to_value',\n",
       " 'number_of_borrowers',\n",
       " 'debt_to_income_ratio',\n",
       " 'borrower_credit_score',\n",
       " 'co-borrower_credit_score',\n",
       " 'm1',\n",
       " 'm2',\n",
       " 'm3',\n",
       " 'm4',\n",
       " 'm5',\n",
       " 'm6',\n",
       " 'm7',\n",
       " 'm8',\n",
       " 'm9',\n",
       " 'm10',\n",
       " 'm11',\n",
       " 'm12',\n",
       " 'source_X',\n",
       " 'source_Y',\n",
       " 'lp_A23',\n",
       " 'lp_B12',\n",
       " 'lp_C86']"
      ]
     },
     "execution_count": 17,
     "metadata": {},
     "output_type": "execute_result"
    }
   ],
   "source": [
    "retained"
   ]
  },
  {
   "cell_type": "code",
   "execution_count": 18,
   "metadata": {},
   "outputs": [],
   "source": [
    "df3= df2[['interest_rate', 'unpaid_principal_bal', 'loan_term', 'loan_to_value','number_of_borrowers', 'debt_to_income_ratio','borrower_credit_score', 'co-borrower_credit_score',\n",
    " 'm1',\n",
    " 'm2',\n",
    " 'm3',\n",
    " 'm4',\n",
    " 'm5',\n",
    " 'm6',\n",
    " 'm7',\n",
    " 'm8',\n",
    " 'm9',\n",
    " 'm10',\n",
    " 'm11',\n",
    " 'm12',\n",
    " 'source_X',\n",
    " 'source_Y',\n",
    " 'lp_A23',\n",
    " 'lp_B12',\n",
    " 'lp_C86']]"
   ]
  },
  {
   "cell_type": "code",
   "execution_count": 19,
   "metadata": {},
   "outputs": [
    {
     "data": {
      "text/plain": [
       "Index(['interest_rate', 'unpaid_principal_bal', 'loan_term', 'loan_to_value',\n",
       "       'number_of_borrowers', 'debt_to_income_ratio', 'borrower_credit_score',\n",
       "       'co-borrower_credit_score', 'm1', 'm2', 'm3', 'm4', 'm5', 'm6', 'm7',\n",
       "       'm8', 'm9', 'm10', 'm11', 'm12', 'source_X', 'source_Y', 'lp_A23',\n",
       "       'lp_B12', 'lp_C86'],\n",
       "      dtype='object')"
      ]
     },
     "execution_count": 19,
     "metadata": {},
     "output_type": "execute_result"
    }
   ],
   "source": [
    "df3.columns"
   ]
  },
  {
   "cell_type": "code",
   "execution_count": 24,
   "metadata": {},
   "outputs": [],
   "source": [
    "smt = SMOTE()\n",
    "X_train, y_train = smt.fit_sample(df3, train_y)"
   ]
  },
  {
   "cell_type": "code",
   "execution_count": 25,
   "metadata": {},
   "outputs": [],
   "source": [
    "X_train = pd.DataFrame(data = X_train, columns = df3.columns)"
   ]
  },
  {
   "cell_type": "code",
   "execution_count": 26,
   "metadata": {},
   "outputs": [
    {
     "data": {
      "text/plain": [
       "array([115422, 115422], dtype=int64)"
      ]
     },
     "execution_count": 26,
     "metadata": {},
     "output_type": "execute_result"
    }
   ],
   "source": [
    "y_train = list(y_train)\n",
    "np.bincount(y_train)"
   ]
  },
  {
   "cell_type": "markdown",
   "metadata": {},
   "source": [
    "#### Training with XGBoost classifier and evaluating with a train test split of 0.8"
   ]
  },
  {
   "cell_type": "code",
   "execution_count": 27,
   "metadata": {},
   "outputs": [
    {
     "name": "stdout",
     "output_type": "stream",
     "text": [
      "Train f1 score ::  0.984770905019839\n",
      "Test f1 score ::  0.9851864837621072\n"
     ]
    }
   ],
   "source": [
    "model = XGBClassifier(learning_rate = 0.055, max_depth = 4,n_jobs=-1)\n",
    "train_x, test_x, train_Y, test_y = train_test_split(X_train,y_train,train_size=0.8)\n",
    "model.fit(train_x,train_Y)\n",
    "xgb_predict = model.predict(test_x)\n",
    "    \n",
    "print( \"Train f1 score :: \", f1_score(train_Y, model.predict(train_x)))\n",
    "print( \"Test f1 score :: \", f1_score(test_y, xgb_predict))"
   ]
  },
  {
   "cell_type": "code",
   "execution_count": 20,
   "metadata": {},
   "outputs": [],
   "source": [
    "test_X = pd.read_csv(\"../input/test.csv\")"
   ]
  },
  {
   "cell_type": "code",
   "execution_count": 21,
   "metadata": {},
   "outputs": [],
   "source": [
    "months = {\"Feb\":2,\"Mar\":3,\"Apr\":4,\"May\":5}\n",
    "diff2 = []\n",
    "for i in range(len(test_X['origination_date'])):\n",
    "    temp = months[test_X['first_payment_date'][i].split('-')[0]] - int(test_X['origination_date'][i].split('/')[1])\n",
    "    diff2.append(temp)\n",
    "test_X.drop(columns = ['origination_date','first_payment_date'],inplace = True)\n",
    "test_X['response_time'] = diff2"
   ]
  },
  {
   "cell_type": "code",
   "execution_count": 22,
   "metadata": {},
   "outputs": [],
   "source": [
    "test_X = one_hot(test_X,['source','financial_institution','loan_purpose'],['source','fi','lp'])"
   ]
  },
  {
   "cell_type": "code",
   "execution_count": 23,
   "metadata": {},
   "outputs": [],
   "source": [
    "test_ids = test_X['loan_id']\n",
    "test_X = test_X[['interest_rate',\n",
    " 'unpaid_principal_bal',\n",
    " 'loan_term',\n",
    " 'loan_to_value',\n",
    " 'number_of_borrowers',\n",
    " 'debt_to_income_ratio',\n",
    " 'borrower_credit_score',\n",
    " 'co-borrower_credit_score',\n",
    " 'm1',\n",
    " 'm2',\n",
    " 'm3',\n",
    " 'm4',\n",
    " 'm5',\n",
    " 'm6',\n",
    " 'm7',\n",
    " 'm8',\n",
    " 'm9',\n",
    " 'm10',\n",
    " 'm11',\n",
    " 'm12',\n",
    " 'source_X',\n",
    " 'source_Y',\n",
    " 'lp_A23',\n",
    " 'lp_B12',\n",
    " 'lp_C86']]"
   ]
  },
  {
   "cell_type": "code",
   "execution_count": 24,
   "metadata": {},
   "outputs": [
    {
     "data": {
      "text/plain": [
       "Index(['interest_rate', 'unpaid_principal_bal', 'loan_term', 'loan_to_value',\n",
       "       'number_of_borrowers', 'debt_to_income_ratio', 'borrower_credit_score',\n",
       "       'co-borrower_credit_score', 'm1', 'm2', 'm3', 'm4', 'm5', 'm6', 'm7',\n",
       "       'm8', 'm9', 'm10', 'm11', 'm12', 'source_X', 'source_Y', 'lp_A23',\n",
       "       'lp_B12', 'lp_C86'],\n",
       "      dtype='object')"
      ]
     },
     "execution_count": 24,
     "metadata": {},
     "output_type": "execute_result"
    }
   ],
   "source": [
    "test_X.columns"
   ]
  },
  {
   "cell_type": "markdown",
   "metadata": {},
   "source": [
    "**predict the delinquency for 13th month and save it in the submission file** "
   ]
  },
  {
   "cell_type": "code",
   "execution_count": 25,
   "metadata": {},
   "outputs": [],
   "source": [
    "xgb_predict_test = model.predict(test_X)"
   ]
  },
  {
   "cell_type": "code",
   "execution_count": 26,
   "metadata": {},
   "outputs": [],
   "source": [
    "submission = pd.DataFrame(test_ids)\n",
    "submission['m13'] = xgb_predict_test\n",
    "submission.to_csv(\"sub.csv\",index = False)"
   ]
  },
  {
   "cell_type": "code",
   "execution_count": null,
   "metadata": {},
   "outputs": [],
   "source": [
    "# predictions = cross_val_predict(model, train_x,train_Y, cv=3)\n",
    "\n",
    "# print(f1_score(train_Y,predictions))"
   ]
  }
 ],
 "metadata": {
  "kernelspec": {
   "display_name": "Python 3",
   "language": "python",
   "name": "python3"
  },
  "language_info": {
   "codemirror_mode": {
    "name": "ipython",
    "version": 3
   },
   "file_extension": ".py",
   "mimetype": "text/x-python",
   "name": "python",
   "nbconvert_exporter": "python",
   "pygments_lexer": "ipython3",
   "version": "3.7.3"
  }
 },
 "nbformat": 4,
 "nbformat_minor": 1
}
